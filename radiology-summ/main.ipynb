{
 "cells": [
  {
   "cell_type": "code",
   "execution_count": 1,
   "id": "c25e407e-3d69-4502-81a2-f1f08b734b85",
   "metadata": {},
   "outputs": [],
   "source": [
    "import pandas as pd\n",
    "import nltk\n",
    "from nltk.tokenize import sent_tokenize, word_tokenize\n",
    "from nltk.corpus import stopwords\n",
    "from nltk.stem import WordNetLemmatizer\n",
    "from sklearn.feature_extraction.text import TfidfVectorizer\n",
    "from sklearn.metrics.pairwise import cosine_similarity\n",
    "from rouge import Rouge"
   ]
  },
  {
   "cell_type": "code",
   "execution_count": 2,
   "id": "f6f99607-be35-41a1-8b0b-9cd35592b95f",
   "metadata": {},
   "outputs": [
    {
     "name": "stderr",
     "output_type": "stream",
     "text": [
      "[nltk_data] Downloading package punkt to\n",
      "[nltk_data]     C:\\Users\\HP\\AppData\\Roaming\\nltk_data...\n",
      "[nltk_data]   Package punkt is already up-to-date!\n",
      "[nltk_data] Downloading package stopwords to\n",
      "[nltk_data]     C:\\Users\\HP\\AppData\\Roaming\\nltk_data...\n",
      "[nltk_data]   Package stopwords is already up-to-date!\n",
      "[nltk_data] Downloading package wordnet to\n",
      "[nltk_data]     C:\\Users\\HP\\AppData\\Roaming\\nltk_data...\n",
      "[nltk_data]   Package wordnet is already up-to-date!\n"
     ]
    },
    {
     "data": {
      "text/plain": [
       "True"
      ]
     },
     "execution_count": 2,
     "metadata": {},
     "output_type": "execute_result"
    }
   ],
   "source": [
    "# Download NLTK resources\n",
    "nltk.download('punkt')\n",
    "nltk.download('stopwords')\n",
    "nltk.download('wordnet')"
   ]
  },
  {
   "cell_type": "code",
   "execution_count": 3,
   "id": "6163eaa2-1f8b-40ec-a870-2e149d1efd3c",
   "metadata": {},
   "outputs": [],
   "source": [
    "# Load radiology report dataset from Kaggle\n",
    "df = pd.read_csv('ReportsDATASET.csv')"
   ]
  },
  {
   "cell_type": "code",
   "execution_count": 4,
   "id": "cb3a36dd-f0fa-4e4b-b094-fed66be97491",
   "metadata": {},
   "outputs": [],
   "source": [
    "# Preprocessing\n",
    "def preprocess_text(text):\n",
    "    # Tokenization\n",
    "    sentences = sent_tokenize(text)\n",
    "    lemmatizer = WordNetLemmatizer()\n",
    "    preprocessed_sentences = []\n",
    "    for sentence in sentences:\n",
    "        words = word_tokenize(sentence)\n",
    "        # Removing stopwords, special characters, and numerical data\n",
    "        words = [lemmatizer.lemmatize(word.lower()) for word in words if word.isalpha()]\n",
    "        preprocessed_sentences.append(' '.join(words))\n",
    "    return ' '.join(preprocessed_sentences)"
   ]
  },
  {
   "cell_type": "code",
   "execution_count": 5,
   "id": "88e390a1-7b52-4c9e-82f4-030d04ed3df0",
   "metadata": {},
   "outputs": [
    {
     "name": "stdout",
     "output_type": "stream",
     "text": [
      "Index(['Text'], dtype='object')\n"
     ]
    }
   ],
   "source": [
    "print(df.columns)"
   ]
  },
  {
   "cell_type": "code",
   "execution_count": 6,
   "id": "8ea276ca-ffda-4c4c-80ee-3c4c6b0bc2ee",
   "metadata": {},
   "outputs": [],
   "source": [
    "# Apply preprocessing to radiology report\n",
    "df['clean_text'] = df['Text'].apply(preprocess_text)"
   ]
  },
  {
   "cell_type": "code",
   "execution_count": 7,
   "id": "e1d3eb01-fc99-424f-bca3-0c394001baa4",
   "metadata": {},
   "outputs": [],
   "source": [
    "# Extract TF-IDF features\n",
    "tfidf_vectorizer = TfidfVectorizer()\n",
    "tfidf_matrix = tfidf_vectorizer.fit_transform(df['clean_text'])"
   ]
  },
  {
   "cell_type": "code",
   "execution_count": 8,
   "id": "96d57b39-b8e8-43ff-a8e1-50bb311a3ed8",
   "metadata": {},
   "outputs": [],
   "source": [
    "# Compute pairwise cosine similarity\n",
    "cosine_similarities = cosine_similarity(tfidf_matrix, tfidf_matrix)"
   ]
  },
  {
   "cell_type": "code",
   "execution_count": 9,
   "id": "188de63f-7f48-4317-839b-b5a43a501671",
   "metadata": {},
   "outputs": [],
   "source": [
    "# TextRank for Extractive Summarization\n",
    "def textrank_summary(text, num_sentences=3):\n",
    "    from summa import summarizer\n",
    "    return summarizer.summarize(text, words=num_sentences)"
   ]
  },
  {
   "cell_type": "code",
   "execution_count": 10,
   "id": "d4ce05dd-d9e0-42f1-b24f-b7658386bc55",
   "metadata": {},
   "outputs": [],
   "source": [
    "# Generate summaries for radiology reports using TextRank\n",
    "df['summary'] = df['Text'].apply(lambda x: textrank_summary(x))\n",
    "\n",
    "# # Save the summaries to a text file\n",
    "# df['summary'].to_csv('ReportsDATASET.txt', index=False, header=None, sep='\\n')\n"
   ]
  },
  {
   "cell_type": "code",
   "execution_count": 11,
   "id": "dd46475c-262e-44c5-bd7a-f381b5bb8474",
   "metadata": {},
   "outputs": [
    {
     "name": "stdout",
     "output_type": "stream",
     "text": [
      "Defaulting to user installation because normal site-packages is not writeable\n",
      "Requirement already satisfied: summa in c:\\users\\hp\\appdata\\roaming\\python\\python311\\site-packages (1.2.0)\n",
      "Requirement already satisfied: scipy>=0.19 in c:\\users\\hp\\appdata\\roaming\\python\\python311\\site-packages (from summa) (1.10.1)\n",
      "Requirement already satisfied: numpy<1.27.0,>=1.19.5 in c:\\users\\hp\\appdata\\roaming\\python\\python311\\site-packages (from scipy>=0.19->summa) (1.24.4)\n"
     ]
    }
   ],
   "source": [
    "!pip install summa"
   ]
  },
  {
   "cell_type": "code",
   "execution_count": 12,
   "id": "8ba9bed6-ff6b-4360-8b05-63c033b82680",
   "metadata": {},
   "outputs": [],
   "source": [
    "# evaluationg through rogue evaluation metric\n",
    "def evaluate_summaries(reference_summaries, generated_summaries):\n",
    "    rouge = Rouge()\n",
    "    scores = rouge.get_scores(generated_summaries, reference_summaries, avg=True)\n",
    "    return scores"
   ]
  },
  {
   "cell_type": "code",
   "execution_count": 13,
   "id": "97efb25e-8cdc-48a6-9fce-434c51259a75",
   "metadata": {},
   "outputs": [],
   "source": [
    "def evaluate_summaries(reference_summaries, generated_summaries):\n",
    "    rouge = Rouge()\n",
    "    scores = rouge.get_scores(generated_summaries, reference_summaries)\n",
    "    avg_scores = {k: sum(v) / len(v) for k, v in scores.items()}\n",
    "    return avg_scores\n"
   ]
  },
  {
   "cell_type": "code",
   "execution_count": 14,
   "id": "893f3922-6d91-483e-8fd6-2d0bcb269a7e",
   "metadata": {},
   "outputs": [],
   "source": [
    "def evaluate_summaries(reference_summaries, generated_summaries):\n",
    "    rouge = Rouge()\n",
    "    scores = []\n",
    "    for hyp, ref in zip(generated_summaries, reference_summaries):\n",
    "        try:\n",
    "            score = rouge.get_scores(hyp, ref)\n",
    "            scores.append(score)\n",
    "        except ValueError:\n",
    "            print(f\"Error calculating ROUGE score for hypothesis '{hyp}' and reference '{ref}'\")\n",
    "            scores.append(None)\n",
    "    avg_scores = {k: sum(v) / len(v) for k, v in scores.items() if v is not None}\n",
    "    return avg_scores"
   ]
  },
  {
   "cell_type": "code",
   "execution_count": 16,
   "id": "52ef5677-f177-429d-8f4d-e4a03ac51ef3",
   "metadata": {},
   "outputs": [],
   "source": [
    "# Save summarized dataset\n",
    "# df.to_csv('reportsdataset_reports.csv', index=False)\n",
    "df.to_csv('summarized_reports.csv', index=False)\n",
    "\n",
    "\n"
   ]
  },
  {
   "cell_type": "code",
   "execution_count": 17,
   "id": "c8c44088-6715-47ae-8dd3-e3b52e6ac968",
   "metadata": {},
   "outputs": [
    {
     "name": "stdout",
     "output_type": "stream",
     "text": [
      "                                                Text  \\\n",
      "0  \\nChest PA-Lat XR\\n\\nImaging Study\\nXray Chest...   \n",
      "1  EXAM(S): Chest, 2 views, frontal and lateral\\n...   \n",
      "2  \\nExam\\nXray Chest PA and Lateral\\n\\nDate\\nXXX...   \n",
      "3  \\nRADIOLOGY REPORT\\n\\nExamination\\nPA and late...   \n",
      "4  \\nChest PA-Lat XR\\n\\nImaging Study\\nXray Chest...   \n",
      "\n",
      "                                          clean_text  \\\n",
      "0  chest xr imaging study xray chest pa and later...   \n",
      "1  exam s chest view frontal and lateral date xxx...   \n",
      "2  exam xray chest pa and lateral date xxxx histo...   \n",
      "3  radiology report examination pa and lateral vi...   \n",
      "4  chest xr imaging study xray chest pa and later...   \n",
      "\n",
      "                        summary  \n",
      "0          Normal chest x-XXXX.  \n",
      "1  No acute pulmonary findings.  \n",
      "2                           NaN  \n",
      "3                           NaN  \n",
      "4     Xray Chest PA and Lateral  \n"
     ]
    }
   ],
   "source": [
    " # Load summarized dataset from file\n",
    "# df = pd.read_csv('reportsdataset_reports.csv')\n",
    "df = pd.read_csv('summarized_reports.csv')\n",
    "#  # Remove rows with NaN values in the 'summary' column\n",
    "# df = df.dropna(subset=['summary'])\n",
    "\n",
    "# Print summarized radiology reports\n",
    "print(df.head())"
   ]
  },
  {
   "cell_type": "code",
   "execution_count": 19,
   "id": "d576a11a-f27c-42f3-b5bd-66a374219fa3",
   "metadata": {},
   "outputs": [
    {
     "name": "stdout",
     "output_type": "stream",
     "text": [
      "0                    Normal chest x-XXXX.\n",
      "1            No acute pulmonary findings.\n",
      "2                                     NaN\n",
      "3                                     NaN\n",
      "4               Xray Chest PA and Lateral\n",
      "                      ...                \n",
      "1979                                  NaN\n",
      "1980                                  NaN\n",
      "1981                                  NaN\n",
      "1982    Possible right upper lobe cavity.\n",
      "1983                                 XXXX\n",
      "Name: summary, Length: 1984, dtype: object\n"
     ]
    }
   ],
   "source": [
    "import pandas as pd\n",
    "\n",
    "# Load summarized dataset from file\n",
    "df = pd.read_csv('summarized_reports.csv')\n",
    "\n",
    "# # Remove rows with NaN values in the 'summary' column\n",
    "# df = df.dropna(subset=['summary'])\n",
    "\n",
    "# Print summarized radiology reports\n",
    "print(df['summary'])"
   ]
  },
  {
   "cell_type": "code",
   "execution_count": null,
   "id": "da7c5335-b534-4e57-b599-8ef5f6c38528",
   "metadata": {},
   "outputs": [],
   "source": []
  }
 ],
 "metadata": {
  "kernelspec": {
   "display_name": "Python 3 (ipykernel)",
   "language": "python",
   "name": "python3"
  },
  "language_info": {
   "codemirror_mode": {
    "name": "ipython",
    "version": 3
   },
   "file_extension": ".py",
   "mimetype": "text/x-python",
   "name": "python",
   "nbconvert_exporter": "python",
   "pygments_lexer": "ipython3",
   "version": "3.11.7"
  }
 },
 "nbformat": 4,
 "nbformat_minor": 5
}
