{
 "cells": [
  {
   "cell_type": "code",
   "execution_count": 22,
   "id": "2e3aa64c-9360-43ca-9383-1ebb254342a7",
   "metadata": {},
   "outputs": [],
   "source": [
    "import pandas as pd\n",
    "\n",
    "# Read TXT file\n",
    "df = pd.read_csv('test3.txt', delimiter='\\t', header=None, names=['sentence'])\n",
    "\n",
    "# Convert TXT file to CSV\n",
    "df.to_csv('test3.csv', index=False)"
   ]
  },
  {
   "cell_type": "code",
   "execution_count": 20,
   "id": "dd847bfb-528e-4b05-bec3-5d0ff7433249",
   "metadata": {},
   "outputs": [
    {
     "ename": "NameError",
     "evalue": "name 'textrank_summary' is not defined",
     "output_type": "error",
     "traceback": [
      "\u001b[1;31m---------------------------------------------------------------------------\u001b[0m",
      "\u001b[1;31mNameError\u001b[0m                                 Traceback (most recent call last)",
      "Cell \u001b[1;32mIn[20], line 3\u001b[0m\n\u001b[0;32m      1\u001b[0m text \u001b[38;5;241m=\u001b[39m \u001b[38;5;124m\"\u001b[39m\u001b[38;5;124mMR CSF flow studies in NPH indicate increased peak CSF velocity and volumes in the cerebral aqueduct, with voids observed in CSF flow. Though traditionally associated with NPH, these findings are also seen in normal subjects on higher field MRI scanners. Changes in brain composition, such as periventricular hypoattenuation on CT or high T2 FLAIR signal on MRI, may support NPH diagnosis. However, these features are nonspecific, common in the elderly brain, reflecting chronic microvascular ischemia or acute hydrocephalus.\u001b[39m\u001b[38;5;124m\"\u001b[39m\n\u001b[0;32m      2\u001b[0m text1\u001b[38;5;241m=\u001b[39m\u001b[38;5;124m\"\u001b[39m\u001b[38;5;124mNeuroimaging  findings  of  SLD  in  the  literature  were localized either to one cerebral hemisphere or cortical lobe and more commonly identified in the frontal lobe [1,3]. Brain MRI demonstrates cortical thickening with reduced gyrification and abnormal  sulcal  depth  and  patterns  that  are  detached  from  the  rest of the affected hemisphere or lobe by deep inward folding of the cortex, giving what is called a lobe within a lobe appearance [3].   These   diseases   are   commonly   associated   with   other   cerebral malformations, such as midline malformation, callosal anomalies,  hypoplasia  of  the  cerebellar  vermis,  ventricular  dysmorphism, and venous malformation [1,3]. Similar findings were found in our case, which demonstrated a  lesion  mimicking  an  accessory  lobule  at  the  right  inferior  frontal surface of the brain with a thickened cortex that was detached  from  the  right  temporal  lobe  by  a  deep  sulcus.  An  atrophic rostral part of the corpus callosum was also observed.\u001b[39m\u001b[38;5;124m\"\u001b[39m\n\u001b[1;32m----> 3\u001b[0m summary \u001b[38;5;241m=\u001b[39m textrank_summary(text)\n\u001b[0;32m      4\u001b[0m summary1 \u001b[38;5;241m=\u001b[39m textrank_summary(text1)\n\u001b[0;32m      5\u001b[0m \u001b[38;5;28mprint\u001b[39m(summary)\n",
      "\u001b[1;31mNameError\u001b[0m: name 'textrank_summary' is not defined"
     ]
    }
   ],
   "source": [
    "text = \"MR CSF flow studies in NPH indicate increased peak CSF velocity and volumes in the cerebral aqueduct, with voids observed in CSF flow. Though traditionally associated with NPH, these findings are also seen in normal subjects on higher field MRI scanners. Changes in brain composition, such as periventricular hypoattenuation on CT or high T2 FLAIR signal on MRI, may support NPH diagnosis. However, these features are nonspecific, common in the elderly brain, reflecting chronic microvascular ischemia or acute hydrocephalus.\"\n",
    "text1=\"Neuroimaging  findings  of  SLD  in  the  literature  were localized either to one cerebral hemisphere or cortical lobe and more commonly identified in the frontal lobe [1,3]. Brain MRI demonstrates cortical thickening with reduced gyrification and abnormal  sulcal  depth  and  patterns  that  are  detached  from  the  rest of the affected hemisphere or lobe by deep inward folding of the cortex, giving what is called a lobe within a lobe appearance [3].   These   diseases   are   commonly   associated   with   other   cerebral malformations, such as midline malformation, callosal anomalies,  hypoplasia  of  the  cerebellar  vermis,  ventricular  dysmorphism, and venous malformation [1,3]. Similar findings were found in our case, which demonstrated a  lesion  mimicking  an  accessory  lobule  at  the  right  inferior  frontal surface of the brain with a thickened cortex that was detached  from  the  right  temporal  lobe  by  a  deep  sulcus.  An  atrophic rostral part of the corpus callosum was also observed.\"\n",
    "summary = textrank_summary(text)\n",
    "summary1 = textrank_summary(text1)\n",
    "print(summary)\n",
    "print(summary1)"
   ]
  },
  {
   "cell_type": "code",
   "execution_count": null,
   "id": "60bbedf9-f164-4211-bcd0-e991322b7d99",
   "metadata": {},
   "outputs": [],
   "source": [
    "def textrank_summary(text, num_sentences=3):\n",
    "    from summa import summarizer\n",
    "    summary=summarizer.summarize(text, words=num_sentences*10)\n",
    "    return summary.split('. ')\n",
    "\n",
    "#...\n",
    "text=\"ALIGNMENT: There is straightening of the normal cervical lordosis which may be positional or related to muscular spasm.   \"\n",
    "summary = textrank_summary(text, num_sentences=5)\n",
    "print('\\n'.join(summary))"
   ]
  }
 ],
 "metadata": {
  "kernelspec": {
   "display_name": "Python 3 (ipykernel)",
   "language": "python",
   "name": "python3"
  },
  "language_info": {
   "codemirror_mode": {
    "name": "ipython",
    "version": 3
   },
   "file_extension": ".py",
   "mimetype": "text/x-python",
   "name": "python",
   "nbconvert_exporter": "python",
   "pygments_lexer": "ipython3",
   "version": "3.11.7"
  }
 },
 "nbformat": 4,
 "nbformat_minor": 5
}
